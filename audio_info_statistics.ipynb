{
 "cells": [
  {
   "cell_type": "markdown",
   "metadata": {},
   "source": [
    "# 对语音数据集进行统计分析"
   ]
  },
  {
   "cell_type": "markdown",
   "metadata": {},
   "source": [
    "### 加载数据集"
   ]
  },
  {
   "cell_type": "code",
   "execution_count": 4,
   "metadata": {},
   "outputs": [],
   "source": [
    "import os\n",
    "import re\n",
    "from collections import Counter\n",
    "from pydub import AudioSegment\n",
    "import librosa\n",
    "import numpy as np\n",
    "import matplotlib.pyplot as plt\n",
    "import pandas as pd\n",
    "\n",
    "# 假设语音数据集所在目录\n",
    "audio_directory = \"/home/nlp/songcw/data/ESC-50-master/audio\"\n",
    "\n",
    "# 读取CSV文件\n",
    "data = pd.read_csv('/home/nlp/songcw/data/ESC-50-master/meta/esc50.csv')  # 将'your_file.csv'替换为实际的文件名\n",
    "\n",
    "# 获取音频文件名和对应的标签\n",
    "audio_filenames = data['filename'].tolist()\n",
    "labels = data['target'].tolist()\n",
    "\n",
    "# 为音频文件名添加前缀路径\n",
    "audio_files = [\"/home/nlp/songcw/data/ESC-50-master/audio/\" + filename for filename in audio_filenames]"
   ]
  },
  {
   "cell_type": "markdown",
   "metadata": {},
   "source": [
    "### 获取音频数据集的时长信息"
   ]
  },
  {
   "cell_type": "code",
   "execution_count": 6,
   "metadata": {},
   "outputs": [
    {
     "name": "stdout",
     "output_type": "stream",
     "text": [
      "音频时长统计：\n",
      "平均时长： 5.0 s\n",
      "最小时长： 5.0 s\n",
      "最大时长： 5.0 s\n"
     ]
    },
    {
     "data": {
      "image/png": "[encoded data removed]",
      "text/plain": [
       "<Figure size 640x480 with 1 Axes>"
      ]
     },
     "metadata": {},
     "output_type": "display_data"
    }
   ],
   "source": [
    "def get_audio_duration(directory):\n",
    "    \"\"\"\n",
    "    获取音频数据集的时长信息\n",
    "    \"\"\"\n",
    "    durations = []\n",
    "    for root, dirs, files in os.walk(directory):\n",
    "        for file in files:\n",
    "            if file.endswith(\".wav\") or file.endswith(\".mp3\"):\n",
    "                audio_path = os.path.join(root, file)\n",
    "                audio = AudioSegment.from_file(audio_path)\n",
    "                duration = len(audio) / 1000.0  # 单位转换为秒\n",
    "                durations.append(duration)\n",
    "    return durations\n",
    "\n",
    "\n",
    "# 统计音频时长\n",
    "durations = get_audio_duration(audio_directory)\n",
    "print(\"音频时长统计：\")\n",
    "print(\"平均时长：\", np.mean(durations), \"s\")\n",
    "print(\"最小时长：\", np.min(durations), \"s\")\n",
    "print(\"最大时长：\", np.max(durations), \"s\")\n",
    "\n",
    "# 绘制音频时长直方图\n",
    "plt.hist(durations, bins=20)\n",
    "plt.xlabel(\"Audio duration (seconds)\")\n",
    "plt.ylabel(\"Number of audio\")\n",
    "plt.title(\"Audio duration distribution\")\n",
    "plt.show()\n"
   ]
  },
  {
   "cell_type": "markdown",
   "metadata": {},
   "source": [
    "### 获取音频数据集的采样率和声道数信息"
   ]
  },
  {
   "cell_type": "code",
   "execution_count": 7,
   "metadata": {},
   "outputs": [
    {
     "name": "stdout",
     "output_type": "stream",
     "text": [
      "音频采样率统计：\n",
      "常见采样率： [(44100, 2000)]\n",
      "音频声道数统计：\n",
      "声道数分布： [(1, 2000)]\n"
     ]
    }
   ],
   "source": [
    "def get_audio_sample_rate_and_channels(directory):\n",
    "    \"\"\"\n",
    "    获取音频数据集的采样率和声道数信息\n",
    "    \"\"\"\n",
    "    sample_rates = []\n",
    "    channels = []\n",
    "    for root, dirs, files in os.walk(directory):\n",
    "        for file in files:\n",
    "            if file.endswith(\".wav\") or file.endswith(\".mp3\"):\n",
    "                audio_path = os.path.join(root, file)\n",
    "                audio = AudioSegment.from_file(audio_path)\n",
    "                sample_rates.append(audio.frame_rate)\n",
    "                channels.append(audio.channels)\n",
    "    return sample_rates, channels\n",
    "\n",
    "\n",
    "# 统计采样率和声道数\n",
    "sample_rates, channels = get_audio_sample_rate_and_channels(audio_directory)\n",
    "print(\"音频采样率统计：\")\n",
    "print(\"常见采样率：\", Counter(sample_rates).most_common(5))\n",
    "print(\"音频声道数统计：\")\n",
    "print(\"声道数分布：\", Counter(channels).most_common())"
   ]
  },
  {
   "cell_type": "markdown",
   "metadata": {},
   "source": [
    "### 获取音频数据集的类别分布"
   ]
  },
  {
   "cell_type": "code",
   "execution_count": 3,
   "metadata": {},
   "outputs": [],
   "source": [
    "def get_audio_category_distribution(directory):\n",
    "    \"\"\"\n",
    "    获取音频数据集的类别分布（假设类别信息在文件名中）\n",
    "    \"\"\"\n",
    "    category_counts = Counter()\n",
    "    for root, dirs, files in os.walk(directory):\n",
    "        for file in files:\n",
    "            if file.endswith(\".wav\") or file.endswith(\".mp3\"):\n",
    "                match = re.match(\"^([^_]+)_\", file)\n",
    "                if match:\n",
    "                    category = match.group(1)\n",
    "                    category_counts[category] += 1\n",
    "    return category_counts\n",
    "\n",
    "# 统计音频类别分布（如果有类别信息在文件名中）\n",
    "category_counts = get_audio_category_distribution(audio_directory)\n",
    "print(\"音频类别分布：\")\n",
    "print(category_counts)\n",
    "# 绘制类别分布柱状图\n",
    "categories = list(category_counts.keys())\n",
    "counts = list(category_counts.values())\n",
    "plt.bar(categories, counts)\n",
    "plt.xlabel(\"音频类别\")\n",
    "plt.ylabel(\"音频数量\")\n",
    "plt.title(\"音频类别分布\")\n",
    "plt.xticks(rotation=45)\n",
    "plt.show()"
   ]
  },
  {
   "cell_type": "markdown",
   "metadata": {},
   "source": [
    "### 获取音频数据集的MFCC特征的均值、方差统计信息"
   ]
  },
  {
   "cell_type": "code",
   "execution_count": 8,
   "metadata": {},
   "outputs": [
    {
     "name": "stdout",
     "output_type": "stream",
     "text": [
      "MFCC特征统计：\n",
      "MFCC均值： [-295.1521      76.217      -13.397432    10.5205965   -2.3127542\n",
      "    5.2440233   -1.8828418    3.434695    -1.2875123    2.58334\n",
      "   -1.7170699    1.9616275   -1.3073889    1.4629419   -1.7436045\n",
      "    1.2926995   -1.591416     1.0756675   -1.7656488    1.3046389]\n",
      "MFCC方差： [12534.522     1003.2358     531.1916     191.43016    142.74664\n",
      "   103.74907     94.502556    77.13591     72.17423     61.37181\n",
      "    62.17788     53.71767     52.687225    50.42257     46.240097\n",
      "    41.264904    39.254177    37.699207    40.50988     39.554073]\n"
     ]
    }
   ],
   "source": [
    "def get_mfcc_stats(directory):\n",
    "    \"\"\"\n",
    "    获取音频数据集的MFCC特征的均值、方差统计信息\n",
    "    \"\"\"\n",
    "    mfcc_means = []\n",
    "    mfcc_vars = []\n",
    "    for root, dirs, files in os.walk(directory):\n",
    "        for file in files:\n",
    "            if file.endswith(\".wav\"):\n",
    "                audio_path = os.path.join(root, file)\n",
    "                y, sr = librosa.load(audio_path)\n",
    "                mfcc = librosa.feature.mfcc(y=y, sr=sr)\n",
    "                mfcc_mean = np.mean(mfcc, axis=1)\n",
    "                mfcc_var = np.var(mfcc, axis=1)\n",
    "                mfcc_means.append(mfcc_mean)\n",
    "                mfcc_vars.append(mfcc_var)\n",
    "    # 计算所有音频MFCC均值和方差的均值\n",
    "    overall_mean_mean = np.mean(mfcc_means, axis=0)\n",
    "    overall_mean_var = np.mean(mfcc_vars, axis=0)\n",
    "    return overall_mean_mean, overall_mean_var\n",
    "\n",
    "# 统计MFCC特征统计信息\n",
    "mfcc_mean, mfcc_var = get_mfcc_stats(audio_directory)\n",
    "print(\"MFCC特征统计：\")\n",
    "print(\"MFCC均值：\", mfcc_mean)\n",
    "print(\"MFCC方差：\", mfcc_var)"
   ]
  }
 ],
 "metadata": {
  "kernelspec": {
   "display_name": "audioML",
   "language": "python",
   "name": "python3"
  },
  "language_info": {
   "codemirror_mode": {
    "name": "ipython",
    "version": 3
   },
   "file_extension": ".py",
   "mimetype": "text/x-python",
   "name": "python",
   "nbconvert_exporter": "python",
   "pygments_lexer": "ipython3",
   "version": "3.12.0"
  }
 },
 "nbformat": 4,
 "nbformat_minor": 2
}
